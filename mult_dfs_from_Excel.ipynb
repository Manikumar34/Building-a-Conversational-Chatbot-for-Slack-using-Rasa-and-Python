{
  "nbformat": 4,
  "nbformat_minor": 0,
  "metadata": {
    "colab": {
      "name": "mult. dfs from Excel.ipynb",
      "provenance": [],
      "mount_file_id": "1c2ipgxJyoqamu4qiezpUD33eWAK0LR5q",
      "authorship_tag": "ABX9TyO057iG1uvfFsF/eBKLGhZn",
      "include_colab_link": true
    },
    "kernelspec": {
      "name": "python3",
      "display_name": "Python 3"
    }
  },
  "cells": [
    {
      "cell_type": "markdown",
      "metadata": {
        "id": "view-in-github",
        "colab_type": "text"
      },
      "source": [
        "<a href=\"https://colab.research.google.com/github/Manikumar34/Building-a-Conversational-Chatbot-for-Slack-using-Rasa-and-Python/blob/master/mult_dfs_from_Excel.ipynb\" target=\"_parent\"><img src=\"https://colab.research.google.com/assets/colab-badge.svg\" alt=\"Open In Colab\"/></a>"
      ]
    },
    {
      "cell_type": "code",
      "metadata": {
        "id": "TWc2XamBCaxA",
        "colab_type": "code",
        "colab": {}
      },
      "source": [
        "\n",
        "#create 2 df for sample\n",
        "import pandas as pd\n",
        "import numpy as np\n",
        "\n",
        "workbook_url = '/content/drive/My Drive/Colab Notebooks/CCTrendChart.xlsx'\n",
        "def parse_excel_sheet(workbook_url, sheet_name=0, threshold=5):\n",
        "    '''parses multiple tables from an excel sheet into multiple data frame objects. Returns [dfs, df_mds], where dfs is a list of data frames and df_mds their potential associated metadata'''\n",
        "    xl = pd.ExcelFile(workbook_url)\n",
        "    entire_sheet = xl.parse(sheet_name=sheet_name)\n",
        "\n",
        "    # count the number of non-Nan cells in each row and then the change in that number between adjacent rows\n",
        "    n_values = np.logical_not(entire_sheet.isnull()).sum(axis=1)\n",
        "    n_values_deltas = n_values[1:] - n_values[:-1].values\n",
        "\n",
        "    # define the beginnings and ends of tables using delta in n_values\n",
        "    table_beginnings = n_values_deltas > threshold\n",
        "    table_beginnings = table_beginnings[table_beginnings].index\n",
        "    table_endings = n_values_deltas < -threshold\n",
        "    table_endings = table_endings[table_endings].index\n",
        "    if len(table_beginnings) < len(table_endings) or len(table_beginnings) > len(table_endings)+1:\n",
        "        raise BaseException('Could not detect equal number of beginnings and ends')\n",
        "\n",
        "    # look for metadata before the beginnings of tables\n",
        "    md_beginnings = []\n",
        "    for start in table_beginnings:\n",
        "        md_start = n_values.iloc[:start][n_values==0].index[-1] + 1\n",
        "        md_beginnings.append(md_start)\n",
        "\n",
        "    # make data frames\n",
        "    dfs = []\n",
        "    df_mds = []\n",
        "    for ind in range(len(table_beginnings)):\n",
        "        start = table_beginnings[ind]+1\n",
        "        if ind < len(table_endings):\n",
        "            stop = table_endings[ind]\n",
        "        else:\n",
        "            stop = entire_sheet.shape[0]\n",
        "        df = xl.parse(sheet_name=sheet_name, skiprows=start, nrows=stop-start)\n",
        "        dfs.append(df)\n",
        "\n",
        "        md = xl.parse(sheet_name=sheet_name, skiprows=md_beginnings[ind], nrows=start-md_beginnings[ind]-1).dropna(axis=1)\n",
        "        df_mds.append(md)\n",
        "        return dfs, df_mds"
      ],
      "execution_count": 8,
      "outputs": []
    },
    {
      "cell_type": "code",
      "metadata": {
        "id": "z_xYAPGFC5HN",
        "colab_type": "code",
        "colab": {
          "base_uri": "https://localhost:8080/",
          "height": 32
        },
        "outputId": "817ac34b-ac1a-4a79-bfba-0f632d395770"
      },
      "source": [
        "files = '/content/drive/My Drive/Colab Notebooks'\n",
        "df_total = pd.DataFrame()\n",
        "for file in files:                         # loop through Excel files\n",
        "    if file.endswith('.xlsx'):\n",
        "        excel_file = pd.ExcelFile(file)\n",
        "        sheets = excel_file.sheet_name\n",
        "        for sheet in sheets:               # loop through sheets inside an Excel file\n",
        "            df = excel_file.parse(sheet_name = sheet)\n",
        "            df_total = df_total.append(df)\n",
        "##df_total.to_excel('combined_file.xlsx')\n",
        "\n",
        "df_total"
      ],
      "execution_count": 19,
      "outputs": [
        {
          "output_type": "execute_result",
          "data": {
            "text/html": [
              "<div>\n",
              "<style scoped>\n",
              "    .dataframe tbody tr th:only-of-type {\n",
              "        vertical-align: middle;\n",
              "    }\n",
              "\n",
              "    .dataframe tbody tr th {\n",
              "        vertical-align: top;\n",
              "    }\n",
              "\n",
              "    .dataframe thead th {\n",
              "        text-align: right;\n",
              "    }\n",
              "</style>\n",
              "<table border=\"1\" class=\"dataframe\">\n",
              "  <thead>\n",
              "    <tr style=\"text-align: right;\">\n",
              "      <th></th>\n",
              "    </tr>\n",
              "  </thead>\n",
              "  <tbody>\n",
              "  </tbody>\n",
              "</table>\n",
              "</div>"
            ],
            "text/plain": [
              "Empty DataFrame\n",
              "Columns: []\n",
              "Index: []"
            ]
          },
          "metadata": {
            "tags": []
          },
          "execution_count": 19
        }
      ]
    },
    {
      "cell_type": "code",
      "metadata": {
        "id": "-ASo_6crMNfM",
        "colab_type": "code",
        "colab": {}
      },
      "source": [
        ""
      ],
      "execution_count": null,
      "outputs": []
    }
  ]
}